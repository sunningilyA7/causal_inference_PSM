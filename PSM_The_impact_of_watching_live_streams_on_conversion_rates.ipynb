{
  "nbformat": 4,
  "nbformat_minor": 0,
  "metadata": {
    "colab": {
      "provenance": [],
      "authorship_tag": "ABX9TyMj9nfrdYRkUvdW2lZJAx/y"
    },
    "kernelspec": {
      "name": "python3",
      "display_name": "Python 3"
    },
    "language_info": {
      "name": "python"
    }
  },
  "cells": [
    {
      "cell_type": "code",
      "execution_count": 4,
      "metadata": {
        "colab": {
          "base_uri": "https://localhost:8080/"
        },
        "id": "N_96zF16Pgrj",
        "outputId": "c50225f5-278f-47fb-ed45-72eb9029ac63"
      },
      "outputs": [
        {
          "output_type": "stream",
          "name": "stdout",
          "text": [
            "Collecting psmatching\n",
            "  Downloading psmatching-0.1.dev21-py3-none-any.whl (6.3 kB)\n",
            "Requirement already satisfied: numpy in /usr/local/lib/python3.10/dist-packages (from psmatching) (1.25.2)\n",
            "Requirement already satisfied: pandas in /usr/local/lib/python3.10/dist-packages (from psmatching) (2.0.3)\n",
            "Requirement already satisfied: scipy in /usr/local/lib/python3.10/dist-packages (from psmatching) (1.11.4)\n",
            "Requirement already satisfied: statsmodels in /usr/local/lib/python3.10/dist-packages (from psmatching) (0.14.2)\n",
            "Requirement already satisfied: python-dateutil>=2.8.2 in /usr/local/lib/python3.10/dist-packages (from pandas->psmatching) (2.8.2)\n",
            "Requirement already satisfied: pytz>=2020.1 in /usr/local/lib/python3.10/dist-packages (from pandas->psmatching) (2023.4)\n",
            "Requirement already satisfied: tzdata>=2022.1 in /usr/local/lib/python3.10/dist-packages (from pandas->psmatching) (2024.1)\n",
            "Requirement already satisfied: patsy>=0.5.6 in /usr/local/lib/python3.10/dist-packages (from statsmodels->psmatching) (0.5.6)\n",
            "Requirement already satisfied: packaging>=21.3 in /usr/local/lib/python3.10/dist-packages (from statsmodels->psmatching) (24.0)\n",
            "Requirement already satisfied: six in /usr/local/lib/python3.10/dist-packages (from patsy>=0.5.6->statsmodels->psmatching) (1.16.0)\n",
            "Installing collected packages: psmatching\n",
            "Successfully installed psmatching-0.1.dev21\n"
          ]
        }
      ],
      "source": [
        "import pandas as pd\n",
        "!pip install psmatching\n",
        "import psmatching.match as psm\n",
        "import numpy as np\n",
        "from scipy import stats"
      ]
    },
    {
      "cell_type": "code",
      "source": [
        "df = pd.read_csv('data (2).csv')"
      ],
      "metadata": {
        "id": "5Jziqke-RuKM"
      },
      "execution_count": 6,
      "outputs": []
    },
    {
      "cell_type": "code",
      "source": [
        "model = \"CASE ~ gender + age + activedays_per_week\"\n"
      ],
      "metadata": {
        "id": "uYU1cGdBR1uy"
      },
      "execution_count": 7,
      "outputs": []
    },
    {
      "cell_type": "code",
      "source": [
        "k = \"1\""
      ],
      "metadata": {
        "id": "B2kl_gVsR3dk"
      },
      "execution_count": 8,
      "outputs": []
    },
    {
      "cell_type": "code",
      "source": [
        "path = 'data (2).csv'"
      ],
      "metadata": {
        "id": "yOm2CeoWR89E"
      },
      "execution_count": 9,
      "outputs": []
    },
    {
      "cell_type": "code",
      "source": [
        "m = psm.PSMatch(path, model, k)\n"
      ],
      "metadata": {
        "id": "tVlPvSOtR6_U"
      },
      "execution_count": 10,
      "outputs": []
    },
    {
      "cell_type": "code",
      "source": [
        "m.prepare_data()"
      ],
      "metadata": {
        "colab": {
          "base_uri": "https://localhost:8080/"
        },
        "id": "hCopm6W3SApy",
        "outputId": "2ea6c53c-59ff-44fa-a187-7252dda48cbe"
      },
      "execution_count": 11,
      "outputs": [
        {
          "output_type": "stream",
          "name": "stdout",
          "text": [
            "\n",
            "Calculating propensity scores ... DONE!\n",
            "Preparing data ... DONE!\n"
          ]
        }
      ]
    },
    {
      "cell_type": "code",
      "source": [
        "m.match(caliper=None, replace=True)"
      ],
      "metadata": {
        "colab": {
          "base_uri": "https://localhost:8080/"
        },
        "id": "JhoYhdnlSDYe",
        "outputId": "7f2e379c-cd9c-4515-b263-d3df3ebcc1e3"
      },
      "execution_count": 12,
      "outputs": [
        {
          "output_type": "stream",
          "name": "stdout",
          "text": [
            "\n",
            "Matching [1] controls to each case ...  DONE!\n",
            "Writing matched data to file ... DONE!\n",
            "\n"
          ]
        }
      ]
    },
    {
      "cell_type": "code",
      "source": [
        "m.evaluate()"
      ],
      "metadata": {
        "colab": {
          "base_uri": "https://localhost:8080/"
        },
        "id": "a02Cz8oaSGH-",
        "outputId": "3f36cbe0-6a9f-440d-b1d3-ee1b3d35802f"
      },
      "execution_count": 13,
      "outputs": [
        {
          "output_type": "stream",
          "name": "stdout",
          "text": [
            "Evaluating matches ...\n",
            "\tgender: PASSED\n",
            "\tage: PASSED\n",
            "\tactivedays_per_week: PASSED\n",
            "\n",
            "All variables were successfully matched!\n"
          ]
        },
        {
          "output_type": "execute_result",
          "data": {
            "text/plain": [
              "True"
            ]
          },
          "metadata": {},
          "execution_count": 13
        }
      ]
    },
    {
      "cell_type": "code",
      "source": [
        "a = m.df"
      ],
      "metadata": {
        "id": "SJs6vHvwSIo-"
      },
      "execution_count": 14,
      "outputs": []
    },
    {
      "cell_type": "code",
      "source": [
        "print('before match:\\n',m.df['CASE'].value_counts(),'\\n')"
      ],
      "metadata": {
        "colab": {
          "base_uri": "https://localhost:8080/"
        },
        "id": "GZZYStejS7Xo",
        "outputId": "b0e112d6-a7f4-4b25-c1ba-84bc2f92426a"
      },
      "execution_count": 20,
      "outputs": [
        {
          "output_type": "stream",
          "name": "stdout",
          "text": [
            "before match:\n",
            " CASE\n",
            "0    10\n",
            "1    10\n",
            "Name: count, dtype: int64 \n",
            "\n"
          ]
        }
      ]
    },
    {
      "cell_type": "code",
      "source": [
        "mdt_id = m.matches.set_index('CASE_ID')\n",
        "mdt = m.matched_data\n",
        "mdt_all = mdt.join(mdt_id)\n",
        "mdt_merged = pd.merge(mdt_all, df, left_on='CONTROL_MATCH_1', right_on='OPTUM_LAB_ID', how='left',suffixes=('_all', '_control'))\n",
        "mdt_merged.to_csv('matched_merged.csv', index=True)"
      ],
      "metadata": {
        "id": "s-ncvwxlSLxH"
      },
      "execution_count": 15,
      "outputs": []
    },
    {
      "cell_type": "code",
      "source": [
        "print('after match:\\n',mdt_merged['CASE_all'].value_counts(),'\\n')\n"
      ],
      "metadata": {
        "colab": {
          "base_uri": "https://localhost:8080/"
        },
        "id": "sOy8yYURSRIT",
        "outputId": "cfa7a006-af7e-48ff-c9c8-a12a6abf5e88"
      },
      "execution_count": 16,
      "outputs": [
        {
          "output_type": "stream",
          "name": "stdout",
          "text": [
            "after match:\n",
            " CASE_all\n",
            "1    10\n",
            "0     5\n",
            "Name: count, dtype: int64 \n",
            "\n"
          ]
        }
      ]
    },
    {
      "cell_type": "code",
      "source": [
        "y_1 = mdt_merged[mdt_merged['CASE_all']==1]['cv_all']\n",
        "y_0 = mdt_merged[mdt_merged['CASE_all']==1]['cv_control']\n",
        "ATT = y_1.mean() - y_0.mean()"
      ],
      "metadata": {
        "id": "KVo0BdEXSVQN"
      },
      "execution_count": 17,
      "outputs": []
    },
    {
      "cell_type": "code",
      "source": [
        "t_statistic, p_value = stats.ttest_rel(y_1, y_0)\n"
      ],
      "metadata": {
        "id": "Tf6J-tF4SaGr"
      },
      "execution_count": 18,
      "outputs": []
    },
    {
      "cell_type": "code",
      "source": [
        "print(f\": {ATT}\")\n",
        "print(\"T-statistic:\", t_statistic)\n",
        "print(\"P-value:\", p_value)\n",
        "if p_value<0.05:\n",
        "    print(\"P-value:\", p_value)\n",
        "    print(\"has significant effect  ！\")\n",
        "else:\n",
        "    print(\"has no significant effect ！\")"
      ],
      "metadata": {
        "colab": {
          "base_uri": "https://localhost:8080/"
        },
        "id": "pagyw0NeSd8R",
        "outputId": "982c14bb-a6da-48ec-ce25-504e5e3108bb"
      },
      "execution_count": 19,
      "outputs": [
        {
          "output_type": "stream",
          "name": "stdout",
          "text": [
            ": 0.010900000000000014\n",
            "T-statistic: 6.04210219838755\n",
            "P-value: 0.00019233122730137023\n",
            "P-value: 0.00019233122730137023\n",
            "has significant effect  ！\n"
          ]
        }
      ]
    },
    {
      "cell_type": "code",
      "source": [],
      "metadata": {
        "id": "CgSAajGoStux"
      },
      "execution_count": null,
      "outputs": []
    }
  ]
}